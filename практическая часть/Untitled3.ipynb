{
 "cells": [
  {
   "cell_type": "markdown",
   "id": "0aacc8f5",
   "metadata": {},
   "source": [
    "1. Загрузить датасет в Python.\n",
    "2. Описать набор данных и решаемую задачу.\n",
    "3. Выделить целевую переменную и факторные переменные.\n",
    "4. Удалить ненужные данные, проанализировать отсутствующие значения.\n",
    "5. Прокомментировать количественные параметры датасета.\n",
    "6. Разбить выборку на обучающую и тестовую.\n",
    "7.  Выбор признаков.\n",
    "\n",
    "\n",
    "Данный вариант предполагает фокусировку на улучшении модели путем ввода новых признаков в модель. Следует подготовить модель к обучению, обучить модель и зафиксировать начальный уровень эффективности. Затем следует исследовать влияние исключения существующих и введения новых признаков в модель на эффективность. Как вариант можно рассматривать введение полиномиальных признаков. Следует стремиться к максимальному увеличению эффективности модели.\n"
   ]
  },
  {
   "cell_type": "code",
   "execution_count": 248,
   "id": "edcf166a",
   "metadata": {},
   "outputs": [],
   "source": [
    "import pandas as pd\n",
    "import matplotlib.pyplot as plt\n",
    "import numpy as np\n",
    "import seaborn as sns\n",
    "from sklearn.model_selection import train_test_split\n",
    "from sklearn.ensemble import RandomForestClassifier\n",
    "from sklearn.metrics import roc_curve, auc, confusion_matrix, classification_report,accuracy_score, recall_score, precision_score\n",
    "from sklearn.linear_model import LogisticRegression\n",
    "from sklearn.tree import DecisionTreeClassifier\n",
    "from sklearn.neighbors import KNeighborsClassifier\n",
    "from sklearn.preprocessing import LabelEncoder\n",
    "from sklearn.naive_bayes import GaussianNB\n",
    "from sklearn.svm import SVC\n",
    "import seaborn as sns\n",
    "from sklearn.pipeline import make_pipeline\n",
    "from sklearn.preprocessing import QuantileTransformer\n",
    "from sklearn.preprocessing import PowerTransformer\n",
    "from sklearn.preprocessing import StandardScaler\n",
    "from sklearn.preprocessing import RobustScaler\n",
    "from sklearn.preprocessing import MinMaxScaler"
   ]
  },
  {
   "cell_type": "markdown",
   "id": "5c7b15f2",
   "metadata": {},
   "source": [
    "1. Загрузить датасет в Python."
   ]
  },
  {
   "cell_type": "code",
   "execution_count": 249,
   "id": "5f0b3f41",
   "metadata": {},
   "outputs": [
    {
     "data": {
      "text/html": [
       "<div>\n",
       "<style scoped>\n",
       "    .dataframe tbody tr th:only-of-type {\n",
       "        vertical-align: middle;\n",
       "    }\n",
       "\n",
       "    .dataframe tbody tr th {\n",
       "        vertical-align: top;\n",
       "    }\n",
       "\n",
       "    .dataframe thead th {\n",
       "        text-align: right;\n",
       "    }\n",
       "</style>\n",
       "<table border=\"1\" class=\"dataframe\">\n",
       "  <thead>\n",
       "    <tr style=\"text-align: right;\">\n",
       "      <th></th>\n",
       "      <th>X</th>\n",
       "      <th>Y</th>\n",
       "      <th>month</th>\n",
       "      <th>day</th>\n",
       "      <th>FFMC</th>\n",
       "      <th>DMC</th>\n",
       "      <th>DC</th>\n",
       "      <th>ISI</th>\n",
       "      <th>temp</th>\n",
       "      <th>RH</th>\n",
       "      <th>wind</th>\n",
       "      <th>rain</th>\n",
       "      <th>area</th>\n",
       "    </tr>\n",
       "  </thead>\n",
       "  <tbody>\n",
       "    <tr>\n",
       "      <th>0</th>\n",
       "      <td>7</td>\n",
       "      <td>5</td>\n",
       "      <td>mar</td>\n",
       "      <td>fri</td>\n",
       "      <td>86.2</td>\n",
       "      <td>26.2</td>\n",
       "      <td>94.3</td>\n",
       "      <td>5.1</td>\n",
       "      <td>8.2</td>\n",
       "      <td>51</td>\n",
       "      <td>6.7</td>\n",
       "      <td>0.0</td>\n",
       "      <td>0.0</td>\n",
       "    </tr>\n",
       "    <tr>\n",
       "      <th>1</th>\n",
       "      <td>7</td>\n",
       "      <td>4</td>\n",
       "      <td>oct</td>\n",
       "      <td>tue</td>\n",
       "      <td>90.6</td>\n",
       "      <td>35.4</td>\n",
       "      <td>669.1</td>\n",
       "      <td>6.7</td>\n",
       "      <td>18.0</td>\n",
       "      <td>33</td>\n",
       "      <td>0.9</td>\n",
       "      <td>0.0</td>\n",
       "      <td>0.0</td>\n",
       "    </tr>\n",
       "    <tr>\n",
       "      <th>2</th>\n",
       "      <td>7</td>\n",
       "      <td>4</td>\n",
       "      <td>oct</td>\n",
       "      <td>sat</td>\n",
       "      <td>90.6</td>\n",
       "      <td>43.7</td>\n",
       "      <td>686.9</td>\n",
       "      <td>6.7</td>\n",
       "      <td>14.6</td>\n",
       "      <td>33</td>\n",
       "      <td>1.3</td>\n",
       "      <td>0.0</td>\n",
       "      <td>0.0</td>\n",
       "    </tr>\n",
       "    <tr>\n",
       "      <th>3</th>\n",
       "      <td>8</td>\n",
       "      <td>6</td>\n",
       "      <td>mar</td>\n",
       "      <td>fri</td>\n",
       "      <td>91.7</td>\n",
       "      <td>33.3</td>\n",
       "      <td>77.5</td>\n",
       "      <td>9.0</td>\n",
       "      <td>8.3</td>\n",
       "      <td>97</td>\n",
       "      <td>4.0</td>\n",
       "      <td>0.2</td>\n",
       "      <td>0.0</td>\n",
       "    </tr>\n",
       "    <tr>\n",
       "      <th>4</th>\n",
       "      <td>8</td>\n",
       "      <td>6</td>\n",
       "      <td>mar</td>\n",
       "      <td>sun</td>\n",
       "      <td>89.3</td>\n",
       "      <td>51.3</td>\n",
       "      <td>102.2</td>\n",
       "      <td>9.6</td>\n",
       "      <td>11.4</td>\n",
       "      <td>99</td>\n",
       "      <td>1.8</td>\n",
       "      <td>0.0</td>\n",
       "      <td>0.0</td>\n",
       "    </tr>\n",
       "  </tbody>\n",
       "</table>\n",
       "</div>"
      ],
      "text/plain": [
       "   X  Y month  day  FFMC   DMC     DC  ISI  temp  RH  wind  rain  area\n",
       "0  7  5   mar  fri  86.2  26.2   94.3  5.1   8.2  51   6.7   0.0   0.0\n",
       "1  7  4   oct  tue  90.6  35.4  669.1  6.7  18.0  33   0.9   0.0   0.0\n",
       "2  7  4   oct  sat  90.6  43.7  686.9  6.7  14.6  33   1.3   0.0   0.0\n",
       "3  8  6   mar  fri  91.7  33.3   77.5  9.0   8.3  97   4.0   0.2   0.0\n",
       "4  8  6   mar  sun  89.3  51.3  102.2  9.6  11.4  99   1.8   0.0   0.0"
      ]
     },
     "execution_count": 249,
     "metadata": {},
     "output_type": "execute_result"
    }
   ],
   "source": [
    "df = pd.read_csv(\"forestfires.csv\")\n",
    "df.head()"
   ]
  },
  {
   "cell_type": "markdown",
   "id": "b4992abc",
   "metadata": {},
   "source": [
    "2. Описать набор данных и решаемую задачу."
   ]
  },
  {
   "cell_type": "markdown",
   "id": "cc967c7e",
   "metadata": {},
   "source": [
    "Этот набор данных охватывает метеорологические и пространственно-временные данные о лесных пожарах (между 2000 и 2003 гг.) в природном парке Монтесинью в Португалии с 13 атрибутами для 517 таких инцидентов. Нашим целевым атрибутом из этих 13 является «площадь» — общая выгоревшая площадь в гектарах (га). Соответствующие данные о погоде — это данные, которые регистрируются датчиками при обнаружении пожара (или его первом возникновении). У нас есть: температура, относительная влажность (относительная влажность), ветер (скорость), дождь (накопленные осадки за последние 30 минут)"
   ]
  },
  {
   "cell_type": "markdown",
   "id": "dcffd0d5",
   "metadata": {},
   "source": [
    "Можно решить задачу регрессии, чтобы предсказать площадь, пораженную огнем"
   ]
  },
  {
   "cell_type": "code",
   "execution_count": 250,
   "id": "b64e3c8d",
   "metadata": {},
   "outputs": [
    {
     "name": "stdout",
     "output_type": "stream",
     "text": [
      "<class 'pandas.core.frame.DataFrame'>\n",
      "RangeIndex: 517 entries, 0 to 516\n",
      "Data columns (total 13 columns):\n",
      " #   Column  Non-Null Count  Dtype  \n",
      "---  ------  --------------  -----  \n",
      " 0   X       517 non-null    int64  \n",
      " 1   Y       517 non-null    int64  \n",
      " 2   month   517 non-null    object \n",
      " 3   day     517 non-null    object \n",
      " 4   FFMC    517 non-null    float64\n",
      " 5   DMC     517 non-null    float64\n",
      " 6   DC      517 non-null    float64\n",
      " 7   ISI     517 non-null    float64\n",
      " 8   temp    517 non-null    float64\n",
      " 9   RH      517 non-null    int64  \n",
      " 10  wind    517 non-null    float64\n",
      " 11  rain    517 non-null    float64\n",
      " 12  area    517 non-null    float64\n",
      "dtypes: float64(8), int64(3), object(2)\n",
      "memory usage: 52.6+ KB\n"
     ]
    }
   ],
   "source": [
    "df.info()"
   ]
  },
  {
   "cell_type": "code",
   "execution_count": 251,
   "id": "8319ad98",
   "metadata": {},
   "outputs": [
    {
     "name": "stdout",
     "output_type": "stream",
     "text": [
      "Количество строк:  517 \n",
      "Количество столбцов:  13\n"
     ]
    }
   ],
   "source": [
    "print('Количество строк: ', df.shape[0], '\\nКоличество столбцов: ', df.shape[1])"
   ]
  },
  {
   "cell_type": "code",
   "execution_count": 252,
   "id": "9b465b72",
   "metadata": {},
   "outputs": [
    {
     "name": "stdout",
     "output_type": "stream",
     "text": [
      "\n",
      "Типы переменных:\n",
      " X          int64\n",
      "Y          int64\n",
      "month     object\n",
      "day       object\n",
      "FFMC     float64\n",
      "DMC      float64\n",
      "DC       float64\n",
      "ISI      float64\n",
      "temp     float64\n",
      "RH         int64\n",
      "wind     float64\n",
      "rain     float64\n",
      "area     float64\n",
      "dtype: object\n"
     ]
    }
   ],
   "source": [
    "print('\\nТипы переменных:\\n', df.dtypes)"
   ]
  },
  {
   "cell_type": "code",
   "execution_count": 253,
   "id": "96f2fe8a",
   "metadata": {},
   "outputs": [
    {
     "name": "stdout",
     "output_type": "stream",
     "text": [
      "\n",
      "Количество уникальных полей для каждого столбца:\n",
      " X          9\n",
      "Y          7\n",
      "month     12\n",
      "day        7\n",
      "FFMC     106\n",
      "DMC      215\n",
      "DC       219\n",
      "ISI      119\n",
      "temp     192\n",
      "RH        75\n",
      "wind      21\n",
      "rain       7\n",
      "area     251\n",
      "dtype: int64\n"
     ]
    }
   ],
   "source": [
    "print('\\nКоличество уникальных полей для каждого столбца:\\n', df.nunique())"
   ]
  },
  {
   "cell_type": "code",
   "execution_count": 254,
   "id": "3333dc11",
   "metadata": {},
   "outputs": [
    {
     "data": {
      "text/html": [
       "<div>\n",
       "<style scoped>\n",
       "    .dataframe tbody tr th:only-of-type {\n",
       "        vertical-align: middle;\n",
       "    }\n",
       "\n",
       "    .dataframe tbody tr th {\n",
       "        vertical-align: top;\n",
       "    }\n",
       "\n",
       "    .dataframe thead th {\n",
       "        text-align: right;\n",
       "    }\n",
       "</style>\n",
       "<table border=\"1\" class=\"dataframe\">\n",
       "  <thead>\n",
       "    <tr style=\"text-align: right;\">\n",
       "      <th></th>\n",
       "      <th>X</th>\n",
       "      <th>Y</th>\n",
       "      <th>FFMC</th>\n",
       "      <th>DMC</th>\n",
       "      <th>DC</th>\n",
       "      <th>ISI</th>\n",
       "      <th>temp</th>\n",
       "      <th>RH</th>\n",
       "      <th>wind</th>\n",
       "      <th>rain</th>\n",
       "      <th>area</th>\n",
       "    </tr>\n",
       "  </thead>\n",
       "  <tbody>\n",
       "    <tr>\n",
       "      <th>count</th>\n",
       "      <td>517.000000</td>\n",
       "      <td>517.000000</td>\n",
       "      <td>517.000000</td>\n",
       "      <td>517.000000</td>\n",
       "      <td>517.000000</td>\n",
       "      <td>517.000000</td>\n",
       "      <td>517.000000</td>\n",
       "      <td>517.000000</td>\n",
       "      <td>517.000000</td>\n",
       "      <td>517.000000</td>\n",
       "      <td>517.000000</td>\n",
       "    </tr>\n",
       "    <tr>\n",
       "      <th>mean</th>\n",
       "      <td>4.669246</td>\n",
       "      <td>4.299807</td>\n",
       "      <td>90.644681</td>\n",
       "      <td>110.872340</td>\n",
       "      <td>547.940039</td>\n",
       "      <td>9.021663</td>\n",
       "      <td>18.889168</td>\n",
       "      <td>44.288201</td>\n",
       "      <td>4.017602</td>\n",
       "      <td>0.021663</td>\n",
       "      <td>12.847292</td>\n",
       "    </tr>\n",
       "    <tr>\n",
       "      <th>std</th>\n",
       "      <td>2.313778</td>\n",
       "      <td>1.229900</td>\n",
       "      <td>5.520111</td>\n",
       "      <td>64.046482</td>\n",
       "      <td>248.066192</td>\n",
       "      <td>4.559477</td>\n",
       "      <td>5.806625</td>\n",
       "      <td>16.317469</td>\n",
       "      <td>1.791653</td>\n",
       "      <td>0.295959</td>\n",
       "      <td>63.655818</td>\n",
       "    </tr>\n",
       "    <tr>\n",
       "      <th>min</th>\n",
       "      <td>1.000000</td>\n",
       "      <td>2.000000</td>\n",
       "      <td>18.700000</td>\n",
       "      <td>1.100000</td>\n",
       "      <td>7.900000</td>\n",
       "      <td>0.000000</td>\n",
       "      <td>2.200000</td>\n",
       "      <td>15.000000</td>\n",
       "      <td>0.400000</td>\n",
       "      <td>0.000000</td>\n",
       "      <td>0.000000</td>\n",
       "    </tr>\n",
       "    <tr>\n",
       "      <th>25%</th>\n",
       "      <td>3.000000</td>\n",
       "      <td>4.000000</td>\n",
       "      <td>90.200000</td>\n",
       "      <td>68.600000</td>\n",
       "      <td>437.700000</td>\n",
       "      <td>6.500000</td>\n",
       "      <td>15.500000</td>\n",
       "      <td>33.000000</td>\n",
       "      <td>2.700000</td>\n",
       "      <td>0.000000</td>\n",
       "      <td>0.000000</td>\n",
       "    </tr>\n",
       "    <tr>\n",
       "      <th>50%</th>\n",
       "      <td>4.000000</td>\n",
       "      <td>4.000000</td>\n",
       "      <td>91.600000</td>\n",
       "      <td>108.300000</td>\n",
       "      <td>664.200000</td>\n",
       "      <td>8.400000</td>\n",
       "      <td>19.300000</td>\n",
       "      <td>42.000000</td>\n",
       "      <td>4.000000</td>\n",
       "      <td>0.000000</td>\n",
       "      <td>0.520000</td>\n",
       "    </tr>\n",
       "    <tr>\n",
       "      <th>75%</th>\n",
       "      <td>7.000000</td>\n",
       "      <td>5.000000</td>\n",
       "      <td>92.900000</td>\n",
       "      <td>142.400000</td>\n",
       "      <td>713.900000</td>\n",
       "      <td>10.800000</td>\n",
       "      <td>22.800000</td>\n",
       "      <td>53.000000</td>\n",
       "      <td>4.900000</td>\n",
       "      <td>0.000000</td>\n",
       "      <td>6.570000</td>\n",
       "    </tr>\n",
       "    <tr>\n",
       "      <th>max</th>\n",
       "      <td>9.000000</td>\n",
       "      <td>9.000000</td>\n",
       "      <td>96.200000</td>\n",
       "      <td>291.300000</td>\n",
       "      <td>860.600000</td>\n",
       "      <td>56.100000</td>\n",
       "      <td>33.300000</td>\n",
       "      <td>100.000000</td>\n",
       "      <td>9.400000</td>\n",
       "      <td>6.400000</td>\n",
       "      <td>1090.840000</td>\n",
       "    </tr>\n",
       "  </tbody>\n",
       "</table>\n",
       "</div>"
      ],
      "text/plain": [
       "                X           Y        FFMC         DMC          DC         ISI  \\\n",
       "count  517.000000  517.000000  517.000000  517.000000  517.000000  517.000000   \n",
       "mean     4.669246    4.299807   90.644681  110.872340  547.940039    9.021663   \n",
       "std      2.313778    1.229900    5.520111   64.046482  248.066192    4.559477   \n",
       "min      1.000000    2.000000   18.700000    1.100000    7.900000    0.000000   \n",
       "25%      3.000000    4.000000   90.200000   68.600000  437.700000    6.500000   \n",
       "50%      4.000000    4.000000   91.600000  108.300000  664.200000    8.400000   \n",
       "75%      7.000000    5.000000   92.900000  142.400000  713.900000   10.800000   \n",
       "max      9.000000    9.000000   96.200000  291.300000  860.600000   56.100000   \n",
       "\n",
       "             temp          RH        wind        rain         area  \n",
       "count  517.000000  517.000000  517.000000  517.000000   517.000000  \n",
       "mean    18.889168   44.288201    4.017602    0.021663    12.847292  \n",
       "std      5.806625   16.317469    1.791653    0.295959    63.655818  \n",
       "min      2.200000   15.000000    0.400000    0.000000     0.000000  \n",
       "25%     15.500000   33.000000    2.700000    0.000000     0.000000  \n",
       "50%     19.300000   42.000000    4.000000    0.000000     0.520000  \n",
       "75%     22.800000   53.000000    4.900000    0.000000     6.570000  \n",
       "max     33.300000  100.000000    9.400000    6.400000  1090.840000  "
      ]
     },
     "execution_count": 254,
     "metadata": {},
     "output_type": "execute_result"
    }
   ],
   "source": [
    "df.describe()"
   ]
  },
  {
   "cell_type": "code",
   "execution_count": 255,
   "id": "b12d6280",
   "metadata": {},
   "outputs": [
    {
     "data": {
      "image/png": "[encoded data removed]",
      "text/plain": [
       "<Figure size 1500x1000 with 12 Axes>"
      ]
     },
     "metadata": {},
     "output_type": "display_data"
    }
   ],
   "source": [
    "df.hist(bins=50, figsize=(15,10), ec='w')\n",
    "plt.show()"
   ]
  },
  {
   "cell_type": "markdown",
   "id": "0da061f5",
   "metadata": {},
   "source": [
    "3. Выделить целевую переменную и факторные переменные."
   ]
  },
  {
   "cell_type": "code",
   "execution_count": 185,
   "id": "78f2cf8d",
   "metadata": {},
   "outputs": [
    {
     "ename": "SyntaxError",
     "evalue": "invalid syntax (2979653224.py, line 1)",
     "output_type": "error",
     "traceback": [
      "\u001b[1;36m  File \u001b[1;32m\"C:\\Users\\lana\\AppData\\Local\\Temp\\ipykernel_20680\\2979653224.py\"\u001b[1;36m, line \u001b[1;32m1\u001b[0m\n\u001b[1;33m    Целевая переменная - area, факторные -\u001b[0m\n\u001b[1;37m            ^\u001b[0m\n\u001b[1;31mSyntaxError\u001b[0m\u001b[1;31m:\u001b[0m invalid syntax\n"
     ]
    }
   ],
   "source": [
    "Целевая переменная - area, факторные - "
   ]
  },
  {
   "cell_type": "code",
   "execution_count": null,
   "id": "41128efe",
   "metadata": {},
   "outputs": [],
   "source": []
  },
  {
   "cell_type": "markdown",
   "id": "942ad910",
   "metadata": {},
   "source": [
    "4. Удалить ненужные данные, проанализировать отсутствующие значения."
   ]
  },
  {
   "cell_type": "code",
   "execution_count": null,
   "id": "52aefe62",
   "metadata": {},
   "outputs": [],
   "source": [
    "df.isnull().sum()"
   ]
  },
  {
   "cell_type": "markdown",
   "id": "4d3c1e86",
   "metadata": {},
   "source": [
    "Нет осутствующих значений"
   ]
  },
  {
   "cell_type": "code",
   "execution_count": null,
   "id": "89d74ade",
   "metadata": {},
   "outputs": [],
   "source": [
    "features = df.columns\n",
    "features"
   ]
  },
  {
   "cell_type": "code",
   "execution_count": 256,
   "id": "06107ba7",
   "metadata": {},
   "outputs": [],
   "source": [
    "df = df.drop(['X', 'Y', 'month', 'day'], axis=1)"
   ]
  },
  {
   "cell_type": "code",
   "execution_count": 187,
   "id": "0c6ae94e",
   "metadata": {},
   "outputs": [
    {
     "data": {
      "text/html": [
       "<div>\n",
       "<style scoped>\n",
       "    .dataframe tbody tr th:only-of-type {\n",
       "        vertical-align: middle;\n",
       "    }\n",
       "\n",
       "    .dataframe tbody tr th {\n",
       "        vertical-align: top;\n",
       "    }\n",
       "\n",
       "    .dataframe thead th {\n",
       "        text-align: right;\n",
       "    }\n",
       "</style>\n",
       "<table border=\"1\" class=\"dataframe\">\n",
       "  <thead>\n",
       "    <tr style=\"text-align: right;\">\n",
       "      <th></th>\n",
       "      <th>FFMC</th>\n",
       "      <th>DMC</th>\n",
       "      <th>DC</th>\n",
       "      <th>ISI</th>\n",
       "      <th>temp</th>\n",
       "      <th>RH</th>\n",
       "      <th>wind</th>\n",
       "      <th>rain</th>\n",
       "      <th>area</th>\n",
       "    </tr>\n",
       "  </thead>\n",
       "  <tbody>\n",
       "    <tr>\n",
       "      <th>0</th>\n",
       "      <td>86.2</td>\n",
       "      <td>26.2</td>\n",
       "      <td>94.3</td>\n",
       "      <td>5.1</td>\n",
       "      <td>8.2</td>\n",
       "      <td>51</td>\n",
       "      <td>6.7</td>\n",
       "      <td>0.0</td>\n",
       "      <td>0.0</td>\n",
       "    </tr>\n",
       "    <tr>\n",
       "      <th>1</th>\n",
       "      <td>90.6</td>\n",
       "      <td>35.4</td>\n",
       "      <td>669.1</td>\n",
       "      <td>6.7</td>\n",
       "      <td>18.0</td>\n",
       "      <td>33</td>\n",
       "      <td>0.9</td>\n",
       "      <td>0.0</td>\n",
       "      <td>0.0</td>\n",
       "    </tr>\n",
       "    <tr>\n",
       "      <th>2</th>\n",
       "      <td>90.6</td>\n",
       "      <td>43.7</td>\n",
       "      <td>686.9</td>\n",
       "      <td>6.7</td>\n",
       "      <td>14.6</td>\n",
       "      <td>33</td>\n",
       "      <td>1.3</td>\n",
       "      <td>0.0</td>\n",
       "      <td>0.0</td>\n",
       "    </tr>\n",
       "    <tr>\n",
       "      <th>3</th>\n",
       "      <td>91.7</td>\n",
       "      <td>33.3</td>\n",
       "      <td>77.5</td>\n",
       "      <td>9.0</td>\n",
       "      <td>8.3</td>\n",
       "      <td>97</td>\n",
       "      <td>4.0</td>\n",
       "      <td>0.2</td>\n",
       "      <td>0.0</td>\n",
       "    </tr>\n",
       "    <tr>\n",
       "      <th>4</th>\n",
       "      <td>89.3</td>\n",
       "      <td>51.3</td>\n",
       "      <td>102.2</td>\n",
       "      <td>9.6</td>\n",
       "      <td>11.4</td>\n",
       "      <td>99</td>\n",
       "      <td>1.8</td>\n",
       "      <td>0.0</td>\n",
       "      <td>0.0</td>\n",
       "    </tr>\n",
       "  </tbody>\n",
       "</table>\n",
       "</div>"
      ],
      "text/plain": [
       "   FFMC   DMC     DC  ISI  temp  RH  wind  rain  area\n",
       "0  86.2  26.2   94.3  5.1   8.2  51   6.7   0.0   0.0\n",
       "1  90.6  35.4  669.1  6.7  18.0  33   0.9   0.0   0.0\n",
       "2  90.6  43.7  686.9  6.7  14.6  33   1.3   0.0   0.0\n",
       "3  91.7  33.3   77.5  9.0   8.3  97   4.0   0.2   0.0\n",
       "4  89.3  51.3  102.2  9.6  11.4  99   1.8   0.0   0.0"
      ]
     },
     "execution_count": 187,
     "metadata": {},
     "output_type": "execute_result"
    }
   ],
   "source": [
    "df.head()"
   ]
  },
  {
   "cell_type": "markdown",
   "id": "260b4d16",
   "metadata": {},
   "source": [
    "Выбросыыыыыыыыыыыы"
   ]
  },
  {
   "cell_type": "code",
   "execution_count": 188,
   "id": "f5c95a74",
   "metadata": {},
   "outputs": [],
   "source": [
    "def outliers_iqr(x):\n",
    "    quartile_1, quartile_3 = np.percentile(x, [25, 75])\n",
    "    iqr = quartile_3 - quartile_1\n",
    "    lower_bound = quartile_1 - (iqr * 1.5)\n",
    "    upper_bound = quartile_3 + (iqr * 1.5)\n",
    "    return np.where((x > upper_bound) | (x < lower_bound))[0], x[(x <= upper_bound) | (x >= lower_bound)].min(), x[(x <= upper_bound) | (x >= lower_bound)].max()"
   ]
  },
  {
   "cell_type": "code",
   "execution_count": 189,
   "id": "217113aa",
   "metadata": {},
   "outputs": [
    {
     "data": {
      "text/plain": [
       "<AxesSubplot:>"
      ]
     },
     "execution_count": 189,
     "metadata": {},
     "output_type": "execute_result"
    },
    {
     "data": {
      "image/png": "[encoded data removed]",
      "text/plain": [
       "<Figure size 640x480 with 1 Axes>"
      ]
     },
     "metadata": {},
     "output_type": "display_data"
    }
   ],
   "source": [
    "sns.boxplot(data=df.FFMC, color='yellow', orient='h')"
   ]
  },
  {
   "cell_type": "code",
   "execution_count": 190,
   "id": "5bdccd1a",
   "metadata": {},
   "outputs": [],
   "source": [
    "FFMC_outliers, min_border, max_border = outliers_iqr(df['FFMC'])"
   ]
  },
  {
   "cell_type": "code",
   "execution_count": 191,
   "id": "e2ed6901",
   "metadata": {},
   "outputs": [
    {
     "data": {
      "text/plain": [
       "53"
      ]
     },
     "execution_count": 191,
     "metadata": {},
     "output_type": "execute_result"
    }
   ],
   "source": [
    "len(FFMC_outliers)"
   ]
  },
  {
   "cell_type": "code",
   "execution_count": 192,
   "id": "6441bd8c",
   "metadata": {},
   "outputs": [],
   "source": [
    "df.loc[FFMC_outliers, 'FFMC'] = np.nan"
   ]
  },
  {
   "cell_type": "code",
   "execution_count": 193,
   "id": "b3582fa5",
   "metadata": {},
   "outputs": [
    {
     "data": {
      "text/plain": [
       "<AxesSubplot:>"
      ]
     },
     "execution_count": 193,
     "metadata": {},
     "output_type": "execute_result"
    },
    {
     "data": {
      "image/png": "[encoded data removed]",
      "text/plain": [
       "<Figure size 640x480 with 1 Axes>"
      ]
     },
     "metadata": {},
     "output_type": "display_data"
    }
   ],
   "source": [
    "sns.boxplot(data=df.DMC, color='yellow', orient='h')"
   ]
  },
  {
   "cell_type": "code",
   "execution_count": 194,
   "id": "f15033f5",
   "metadata": {},
   "outputs": [],
   "source": [
    "DMC_outliers, min_border, max_border = outliers_iqr(df['DMC'])"
   ]
  },
  {
   "cell_type": "code",
   "execution_count": 195,
   "id": "634a7353",
   "metadata": {},
   "outputs": [
    {
     "data": {
      "text/plain": [
       "17"
      ]
     },
     "execution_count": 195,
     "metadata": {},
     "output_type": "execute_result"
    }
   ],
   "source": [
    "len(DMC_outliers)"
   ]
  },
  {
   "cell_type": "code",
   "execution_count": 196,
   "id": "f9f46fc3",
   "metadata": {},
   "outputs": [],
   "source": [
    "df.loc[DMC_outliers, 'DMC'] = np.nan"
   ]
  },
  {
   "cell_type": "code",
   "execution_count": 197,
   "id": "04309a56",
   "metadata": {},
   "outputs": [
    {
     "data": {
      "text/plain": [
       "<AxesSubplot:>"
      ]
     },
     "execution_count": 197,
     "metadata": {},
     "output_type": "execute_result"
    },
    {
     "data": {
      "image/png": "[encoded data removed]",
      "text/plain": [
       "<Figure size 640x480 with 1 Axes>"
      ]
     },
     "metadata": {},
     "output_type": "display_data"
    }
   ],
   "source": [
    "sns.boxplot(data=df.DC, color='yellow', orient='h')"
   ]
  },
  {
   "cell_type": "code",
   "execution_count": 198,
   "id": "5aec385e",
   "metadata": {},
   "outputs": [],
   "source": [
    "DC_outliers, min_border, max_border = outliers_iqr(df['DC'])"
   ]
  },
  {
   "cell_type": "code",
   "execution_count": 199,
   "id": "7038d174",
   "metadata": {},
   "outputs": [
    {
     "data": {
      "text/plain": [
       "8"
      ]
     },
     "execution_count": 199,
     "metadata": {},
     "output_type": "execute_result"
    }
   ],
   "source": [
    "len(DC_outliers)"
   ]
  },
  {
   "cell_type": "code",
   "execution_count": 200,
   "id": "ed032108",
   "metadata": {},
   "outputs": [],
   "source": [
    "df.loc[DC_outliers, 'DC'] = np.nan"
   ]
  },
  {
   "cell_type": "code",
   "execution_count": 201,
   "id": "42331010",
   "metadata": {},
   "outputs": [
    {
     "data": {
      "text/plain": [
       "<AxesSubplot:>"
      ]
     },
     "execution_count": 201,
     "metadata": {},
     "output_type": "execute_result"
    },
    {
     "data": {
      "image/png": "[encoded data removed]",
      "text/plain": [
       "<Figure size 640x480 with 1 Axes>"
      ]
     },
     "metadata": {},
     "output_type": "display_data"
    }
   ],
   "source": [
    "sns.boxplot(data=df.ISI, color='yellow', orient='h')"
   ]
  },
  {
   "cell_type": "code",
   "execution_count": 202,
   "id": "c1cbdf85",
   "metadata": {},
   "outputs": [],
   "source": [
    "ISI_outliers, min_border, max_border = outliers_iqr(df['ISI'])"
   ]
  },
  {
   "cell_type": "code",
   "execution_count": 203,
   "id": "0f7f188a",
   "metadata": {},
   "outputs": [
    {
     "data": {
      "text/plain": [
       "23"
      ]
     },
     "execution_count": 203,
     "metadata": {},
     "output_type": "execute_result"
    }
   ],
   "source": [
    "len(ISI_outliers)"
   ]
  },
  {
   "cell_type": "code",
   "execution_count": 204,
   "id": "29f0cb19",
   "metadata": {},
   "outputs": [],
   "source": [
    "df.loc[ISI_outliers, 'ISI'] = np.nan"
   ]
  },
  {
   "cell_type": "code",
   "execution_count": 205,
   "id": "38349001",
   "metadata": {},
   "outputs": [
    {
     "data": {
      "text/plain": [
       "<AxesSubplot:>"
      ]
     },
     "execution_count": 205,
     "metadata": {},
     "output_type": "execute_result"
    },
    {
     "data": {
      "image/png": "[encoded data removed]",
      "text/plain": [
       "<Figure size 640x480 with 1 Axes>"
      ]
     },
     "metadata": {},
     "output_type": "display_data"
    }
   ],
   "source": [
    "sns.boxplot(data=df.temp, color='yellow', orient='h')"
   ]
  },
  {
   "cell_type": "code",
   "execution_count": 206,
   "id": "d5ed5202",
   "metadata": {},
   "outputs": [],
   "source": [
    "temp_outliers, min_border, max_border = outliers_iqr(df['temp'])"
   ]
  },
  {
   "cell_type": "code",
   "execution_count": 207,
   "id": "3403d5a3",
   "metadata": {},
   "outputs": [
    {
     "data": {
      "text/plain": [
       "2"
      ]
     },
     "execution_count": 207,
     "metadata": {},
     "output_type": "execute_result"
    }
   ],
   "source": [
    "len(temp_outliers)"
   ]
  },
  {
   "cell_type": "code",
   "execution_count": 208,
   "id": "a889593d",
   "metadata": {},
   "outputs": [],
   "source": [
    "df.loc[temp_outliers, 'temp'] = np.nan"
   ]
  },
  {
   "cell_type": "code",
   "execution_count": 209,
   "id": "48a4a9db",
   "metadata": {},
   "outputs": [
    {
     "data": {
      "text/plain": [
       "<AxesSubplot:>"
      ]
     },
     "execution_count": 209,
     "metadata": {},
     "output_type": "execute_result"
    },
    {
     "data": {
      "image/png": "[encoded data removed]",
      "text/plain": [
       "<Figure size 640x480 with 1 Axes>"
      ]
     },
     "metadata": {},
     "output_type": "display_data"
    }
   ],
   "source": [
    "sns.boxplot(data=df.RH, color='yellow', orient='h')"
   ]
  },
  {
   "cell_type": "code",
   "execution_count": 210,
   "id": "f921f7ec",
   "metadata": {},
   "outputs": [],
   "source": [
    "RH_outliers, min_border, max_border = outliers_iqr(df['RH'])"
   ]
  },
  {
   "cell_type": "code",
   "execution_count": 211,
   "id": "924de630",
   "metadata": {},
   "outputs": [
    {
     "data": {
      "text/plain": [
       "12"
      ]
     },
     "execution_count": 211,
     "metadata": {},
     "output_type": "execute_result"
    }
   ],
   "source": [
    "len(RH_outliers)"
   ]
  },
  {
   "cell_type": "code",
   "execution_count": 212,
   "id": "65223124",
   "metadata": {},
   "outputs": [],
   "source": [
    "df.loc[RH_outliers, 'RH'] = np.nan"
   ]
  },
  {
   "cell_type": "code",
   "execution_count": 213,
   "id": "2c67d612",
   "metadata": {},
   "outputs": [
    {
     "data": {
      "text/plain": [
       "<AxesSubplot:>"
      ]
     },
     "execution_count": 213,
     "metadata": {},
     "output_type": "execute_result"
    },
    {
     "data": {
      "image/png": "[encoded data removed]",
      "text/plain": [
       "<Figure size 640x480 with 1 Axes>"
      ]
     },
     "metadata": {},
     "output_type": "display_data"
    }
   ],
   "source": [
    "sns.boxplot(data=df.wind, color='yellow', orient='h')"
   ]
  },
  {
   "cell_type": "code",
   "execution_count": 214,
   "id": "9530c217",
   "metadata": {},
   "outputs": [],
   "source": [
    "wind_outliers, min_border, max_border = outliers_iqr(df['wind'])"
   ]
  },
  {
   "cell_type": "code",
   "execution_count": 215,
   "id": "41a25b17",
   "metadata": {},
   "outputs": [
    {
     "data": {
      "text/plain": [
       "13"
      ]
     },
     "execution_count": 215,
     "metadata": {},
     "output_type": "execute_result"
    }
   ],
   "source": [
    "len(wind_outliers)"
   ]
  },
  {
   "cell_type": "code",
   "execution_count": 216,
   "id": "369ccd7c",
   "metadata": {},
   "outputs": [],
   "source": [
    "df.loc[wind_outliers, 'wind'] = np.nan"
   ]
  },
  {
   "cell_type": "code",
   "execution_count": 217,
   "id": "4a8b178e",
   "metadata": {},
   "outputs": [
    {
     "data": {
      "text/plain": [
       "<AxesSubplot:>"
      ]
     },
     "execution_count": 217,
     "metadata": {},
     "output_type": "execute_result"
    },
    {
     "data": {
      "image/png": "[encoded data removed]",
      "text/plain": [
       "<Figure size 640x480 with 1 Axes>"
      ]
     },
     "metadata": {},
     "output_type": "display_data"
    }
   ],
   "source": [
    "sns.boxplot(data=df.rain, color='yellow', orient='h')"
   ]
  },
  {
   "cell_type": "code",
   "execution_count": 218,
   "id": "b9561795",
   "metadata": {},
   "outputs": [],
   "source": [
    "rain_outliers, min_border, max_border = outliers_iqr(df['rain'])"
   ]
  },
  {
   "cell_type": "code",
   "execution_count": 219,
   "id": "c5356ca8",
   "metadata": {},
   "outputs": [
    {
     "data": {
      "text/plain": [
       "8"
      ]
     },
     "execution_count": 219,
     "metadata": {},
     "output_type": "execute_result"
    }
   ],
   "source": [
    "len(rain_outliers)"
   ]
  },
  {
   "cell_type": "code",
   "execution_count": 220,
   "id": "1774b470",
   "metadata": {},
   "outputs": [],
   "source": [
    "df.loc[rain_outliers, 'rain'] = np.nan"
   ]
  },
  {
   "cell_type": "code",
   "execution_count": 221,
   "id": "deb0cd17",
   "metadata": {},
   "outputs": [
    {
     "data": {
      "text/plain": [
       "<AxesSubplot:>"
      ]
     },
     "execution_count": 221,
     "metadata": {},
     "output_type": "execute_result"
    },
    {
     "data": {
      "image/png": "[encoded data removed]",
      "text/plain": [
       "<Figure size 640x480 with 1 Axes>"
      ]
     },
     "metadata": {},
     "output_type": "display_data"
    }
   ],
   "source": [
    "sns.boxplot(data=df.area, color='yellow', orient='h')"
   ]
  },
  {
   "cell_type": "code",
   "execution_count": 222,
   "id": "e1f0c74a",
   "metadata": {},
   "outputs": [],
   "source": [
    "area_outliers, min_border, max_border = outliers_iqr(df['area'])"
   ]
  },
  {
   "cell_type": "code",
   "execution_count": 223,
   "id": "eabb15f3",
   "metadata": {},
   "outputs": [
    {
     "data": {
      "text/plain": [
       "63"
      ]
     },
     "execution_count": 223,
     "metadata": {},
     "output_type": "execute_result"
    }
   ],
   "source": [
    "len(area_outliers)"
   ]
  },
  {
   "cell_type": "code",
   "execution_count": 224,
   "id": "4e26cf12",
   "metadata": {},
   "outputs": [],
   "source": [
    "df.loc[area_outliers, 'area'] = np.nan"
   ]
  },
  {
   "cell_type": "code",
   "execution_count": 225,
   "id": "05695f2c",
   "metadata": {},
   "outputs": [
    {
     "name": "stdout",
     "output_type": "stream",
     "text": [
      "<class 'pandas.core.frame.DataFrame'>\n",
      "RangeIndex: 517 entries, 0 to 516\n",
      "Data columns (total 9 columns):\n",
      " #   Column  Non-Null Count  Dtype  \n",
      "---  ------  --------------  -----  \n",
      " 0   FFMC    464 non-null    float64\n",
      " 1   DMC     500 non-null    float64\n",
      " 2   DC      509 non-null    float64\n",
      " 3   ISI     494 non-null    float64\n",
      " 4   temp    515 non-null    float64\n",
      " 5   RH      505 non-null    float64\n",
      " 6   wind    504 non-null    float64\n",
      " 7   rain    509 non-null    float64\n",
      " 8   area    454 non-null    float64\n",
      "dtypes: float64(9)\n",
      "memory usage: 36.5 KB\n"
     ]
    }
   ],
   "source": [
    "df.info()"
   ]
  },
  {
   "cell_type": "code",
   "execution_count": 226,
   "id": "99674c8e",
   "metadata": {},
   "outputs": [],
   "source": [
    "df = df.dropna()"
   ]
  },
  {
   "cell_type": "code",
   "execution_count": 227,
   "id": "0813fbb4",
   "metadata": {},
   "outputs": [
    {
     "name": "stdout",
     "output_type": "stream",
     "text": [
      "<class 'pandas.core.frame.DataFrame'>\n",
      "Int64Index: 356 entries, 0 to 515\n",
      "Data columns (total 9 columns):\n",
      " #   Column  Non-Null Count  Dtype  \n",
      "---  ------  --------------  -----  \n",
      " 0   FFMC    356 non-null    float64\n",
      " 1   DMC     356 non-null    float64\n",
      " 2   DC      356 non-null    float64\n",
      " 3   ISI     356 non-null    float64\n",
      " 4   temp    356 non-null    float64\n",
      " 5   RH      356 non-null    float64\n",
      " 6   wind    356 non-null    float64\n",
      " 7   rain    356 non-null    float64\n",
      " 8   area    356 non-null    float64\n",
      "dtypes: float64(9)\n",
      "memory usage: 27.8 KB\n"
     ]
    }
   ],
   "source": [
    "df.info()"
   ]
  },
  {
   "cell_type": "markdown",
   "id": "c1fb2969",
   "metadata": {},
   "source": [
    "5. Прокомментировать количественные параметры датасета."
   ]
  },
  {
   "cell_type": "code",
   "execution_count": 228,
   "id": "90d0af90",
   "metadata": {},
   "outputs": [
    {
     "data": {
      "image/png": "[encoded data removed]",
      "text/plain": [
       "<Figure size 600x600 with 1 Axes>"
      ]
     },
     "metadata": {},
     "output_type": "display_data"
    }
   ],
   "source": [
    "df_corr = df.corr().abs()\n",
    "f=plt.figure(figsize=(6,6))\n",
    "corr_matrix = sns.heatmap(\n",
    "            df_corr, \n",
    "            annot = True, \n",
    "            fmt = '.1g', \n",
    "            cmap = 'hot', \n",
    "            linewidths = 4, \n",
    "            linecolor = 'darkred',\n",
    "            cbar = False, \n",
    "            square = True, \n",
    "            xticklabels = df_corr.columns, \n",
    "            yticklabels = df_corr.columns);"
   ]
  },
  {
   "cell_type": "code",
   "execution_count": 229,
   "id": "4bdca98e",
   "metadata": {},
   "outputs": [
    {
     "data": {
      "text/html": [
       "<div>\n",
       "<style scoped>\n",
       "    .dataframe tbody tr th:only-of-type {\n",
       "        vertical-align: middle;\n",
       "    }\n",
       "\n",
       "    .dataframe tbody tr th {\n",
       "        vertical-align: top;\n",
       "    }\n",
       "\n",
       "    .dataframe thead th {\n",
       "        text-align: right;\n",
       "    }\n",
       "</style>\n",
       "<table border=\"1\" class=\"dataframe\">\n",
       "  <thead>\n",
       "    <tr style=\"text-align: right;\">\n",
       "      <th></th>\n",
       "      <th>FFMC</th>\n",
       "      <th>DMC</th>\n",
       "      <th>DC</th>\n",
       "      <th>ISI</th>\n",
       "      <th>temp</th>\n",
       "      <th>RH</th>\n",
       "      <th>wind</th>\n",
       "      <th>rain</th>\n",
       "      <th>area</th>\n",
       "    </tr>\n",
       "  </thead>\n",
       "  <tbody>\n",
       "    <tr>\n",
       "      <th>FFMC</th>\n",
       "      <td>1.000000</td>\n",
       "      <td>0.425003</td>\n",
       "      <td>0.179943</td>\n",
       "      <td>0.684034</td>\n",
       "      <td>0.539166</td>\n",
       "      <td>-0.298685</td>\n",
       "      <td>0.021104</td>\n",
       "      <td>NaN</td>\n",
       "      <td>0.073826</td>\n",
       "    </tr>\n",
       "    <tr>\n",
       "      <th>DMC</th>\n",
       "      <td>0.425003</td>\n",
       "      <td>1.000000</td>\n",
       "      <td>0.412716</td>\n",
       "      <td>0.304963</td>\n",
       "      <td>0.476467</td>\n",
       "      <td>0.044197</td>\n",
       "      <td>-0.144309</td>\n",
       "      <td>NaN</td>\n",
       "      <td>0.105391</td>\n",
       "    </tr>\n",
       "    <tr>\n",
       "      <th>DC</th>\n",
       "      <td>0.179943</td>\n",
       "      <td>0.412716</td>\n",
       "      <td>1.000000</td>\n",
       "      <td>-0.021326</td>\n",
       "      <td>0.203486</td>\n",
       "      <td>0.059137</td>\n",
       "      <td>-0.230662</td>\n",
       "      <td>NaN</td>\n",
       "      <td>0.079991</td>\n",
       "    </tr>\n",
       "    <tr>\n",
       "      <th>ISI</th>\n",
       "      <td>0.684034</td>\n",
       "      <td>0.304963</td>\n",
       "      <td>-0.021326</td>\n",
       "      <td>1.000000</td>\n",
       "      <td>0.329688</td>\n",
       "      <td>-0.161206</td>\n",
       "      <td>0.217735</td>\n",
       "      <td>NaN</td>\n",
       "      <td>0.091079</td>\n",
       "    </tr>\n",
       "    <tr>\n",
       "      <th>temp</th>\n",
       "      <td>0.539166</td>\n",
       "      <td>0.476467</td>\n",
       "      <td>0.203486</td>\n",
       "      <td>0.329688</td>\n",
       "      <td>1.000000</td>\n",
       "      <td>-0.512100</td>\n",
       "      <td>-0.159421</td>\n",
       "      <td>NaN</td>\n",
       "      <td>0.114979</td>\n",
       "    </tr>\n",
       "    <tr>\n",
       "      <th>RH</th>\n",
       "      <td>-0.298685</td>\n",
       "      <td>0.044197</td>\n",
       "      <td>0.059137</td>\n",
       "      <td>-0.161206</td>\n",
       "      <td>-0.512100</td>\n",
       "      <td>1.000000</td>\n",
       "      <td>-0.013764</td>\n",
       "      <td>NaN</td>\n",
       "      <td>0.051093</td>\n",
       "    </tr>\n",
       "    <tr>\n",
       "      <th>wind</th>\n",
       "      <td>0.021104</td>\n",
       "      <td>-0.144309</td>\n",
       "      <td>-0.230662</td>\n",
       "      <td>0.217735</td>\n",
       "      <td>-0.159421</td>\n",
       "      <td>-0.013764</td>\n",
       "      <td>1.000000</td>\n",
       "      <td>NaN</td>\n",
       "      <td>-0.079969</td>\n",
       "    </tr>\n",
       "    <tr>\n",
       "      <th>rain</th>\n",
       "      <td>NaN</td>\n",
       "      <td>NaN</td>\n",
       "      <td>NaN</td>\n",
       "      <td>NaN</td>\n",
       "      <td>NaN</td>\n",
       "      <td>NaN</td>\n",
       "      <td>NaN</td>\n",
       "      <td>NaN</td>\n",
       "      <td>NaN</td>\n",
       "    </tr>\n",
       "    <tr>\n",
       "      <th>area</th>\n",
       "      <td>0.073826</td>\n",
       "      <td>0.105391</td>\n",
       "      <td>0.079991</td>\n",
       "      <td>0.091079</td>\n",
       "      <td>0.114979</td>\n",
       "      <td>0.051093</td>\n",
       "      <td>-0.079969</td>\n",
       "      <td>NaN</td>\n",
       "      <td>1.000000</td>\n",
       "    </tr>\n",
       "  </tbody>\n",
       "</table>\n",
       "</div>"
      ],
      "text/plain": [
       "          FFMC       DMC        DC       ISI      temp        RH      wind  \\\n",
       "FFMC  1.000000  0.425003  0.179943  0.684034  0.539166 -0.298685  0.021104   \n",
       "DMC   0.425003  1.000000  0.412716  0.304963  0.476467  0.044197 -0.144309   \n",
       "DC    0.179943  0.412716  1.000000 -0.021326  0.203486  0.059137 -0.230662   \n",
       "ISI   0.684034  0.304963 -0.021326  1.000000  0.329688 -0.161206  0.217735   \n",
       "temp  0.539166  0.476467  0.203486  0.329688  1.000000 -0.512100 -0.159421   \n",
       "RH   -0.298685  0.044197  0.059137 -0.161206 -0.512100  1.000000 -0.013764   \n",
       "wind  0.021104 -0.144309 -0.230662  0.217735 -0.159421 -0.013764  1.000000   \n",
       "rain       NaN       NaN       NaN       NaN       NaN       NaN       NaN   \n",
       "area  0.073826  0.105391  0.079991  0.091079  0.114979  0.051093 -0.079969   \n",
       "\n",
       "      rain      area  \n",
       "FFMC   NaN  0.073826  \n",
       "DMC    NaN  0.105391  \n",
       "DC     NaN  0.079991  \n",
       "ISI    NaN  0.091079  \n",
       "temp   NaN  0.114979  \n",
       "RH     NaN  0.051093  \n",
       "wind   NaN -0.079969  \n",
       "rain   NaN       NaN  \n",
       "area   NaN  1.000000  "
      ]
     },
     "execution_count": 229,
     "metadata": {},
     "output_type": "execute_result"
    }
   ],
   "source": [
    "corr_matrix = df.corr(method='spearman')\n",
    "corr_matrix"
   ]
  },
  {
   "cell_type": "markdown",
   "id": "26117ef7",
   "metadata": {},
   "source": [
    "6. Разбить выборку на обучающую и тестовую."
   ]
  },
  {
   "cell_type": "code",
   "execution_count": 257,
   "id": "a5f257be",
   "metadata": {},
   "outputs": [],
   "source": [
    "y = df['area']\n",
    "x = df.drop('area', axis=1)"
   ]
  },
  {
   "cell_type": "code",
   "execution_count": 231,
   "id": "ea8ac60c",
   "metadata": {},
   "outputs": [],
   "source": [
    "x_train, x_test, y_train, y_test = train_test_split(x, y, test_size=0.2, random_state=1)"
   ]
  },
  {
   "cell_type": "code",
   "execution_count": 232,
   "id": "1f890bb8",
   "metadata": {},
   "outputs": [
    {
     "data": {
      "text/plain": [
       "((284, 8), (284,), (72, 8), (72,))"
      ]
     },
     "execution_count": 232,
     "metadata": {},
     "output_type": "execute_result"
    }
   ],
   "source": [
    "x_train.shape, y_train.shape, x_test.shape, y_test.shape"
   ]
  },
  {
   "cell_type": "markdown",
   "id": "3ce94862",
   "metadata": {},
   "source": [
    "7.  Выбор признаков.\n",
    "\n",
    "\n",
    "Данный вариант предполагает фокусировку на улучшении модели путем ввода новых признаков в модель. Следует подготовить модель к обучению, обучить модель и зафиксировать начальный уровень эффективности. Затем следует исследовать влияние исключения существующих и введения новых признаков в модель на эффективность. Как вариант можно рассматривать введение полиномиальных признаков. Следует стремиться к максимальному увеличению эффективности модели.\n"
   ]
  },
  {
   "cell_type": "code",
   "execution_count": 258,
   "id": "38ad0f75",
   "metadata": {},
   "outputs": [
    {
     "data": {
      "text/plain": [
       "LinearRegression()"
      ]
     },
     "execution_count": 258,
     "metadata": {},
     "output_type": "execute_result"
    }
   ],
   "source": [
    "from sklearn.linear_model import LinearRegression\n",
    "model = LinearRegression()\n",
    "model.fit(x, y)"
   ]
  },
  {
   "cell_type": "code",
   "execution_count": 259,
   "id": "156cc901",
   "metadata": {},
   "outputs": [
    {
     "name": "stdout",
     "output_type": "stream",
     "text": [
      "[  5.56414506   4.76384036   3.02523794 -10.22497529  -9.96737932]\n"
     ]
    }
   ],
   "source": [
    "y_pred = model.predict(x)\n",
    "print(y_pred[:5])"
   ]
  },
  {
   "cell_type": "code",
   "execution_count": 260,
   "id": "5dcb5afc",
   "metadata": {},
   "outputs": [
    {
     "name": "stdout",
     "output_type": "stream",
     "text": [
      "0    0.0\n",
      "1    0.0\n",
      "2    0.0\n",
      "3    0.0\n",
      "4    0.0\n",
      "Name: area, dtype: float64\n"
     ]
    }
   ],
   "source": [
    "print(y[:5])"
   ]
  },
  {
   "cell_type": "code",
   "execution_count": 261,
   "id": "18e88505",
   "metadata": {},
   "outputs": [
    {
     "data": {
      "text/plain": [
       "[<matplotlib.lines.Line2D at 0x20ee1d57370>]"
      ]
     },
     "execution_count": 261,
     "metadata": {},
     "output_type": "execute_result"
    },
    {
     "data": {
      "image/png": "[encoded data removed]",
      "text/plain": [
       "<Figure size 640x480 with 1 Axes>"
      ]
     },
     "metadata": {},
     "output_type": "display_data"
    }
   ],
   "source": [
    "plt.scatter(y_pred, y)\n",
    "plt.plot(y, y, c='r')"
   ]
  },
  {
   "cell_type": "code",
   "execution_count": 262,
   "id": "73ada432",
   "metadata": {},
   "outputs": [
    {
     "data": {
      "text/plain": [
       "0.01601284619400689"
      ]
     },
     "execution_count": 262,
     "metadata": {},
     "output_type": "execute_result"
    }
   ],
   "source": [
    "model.score(x, y)"
   ]
  },
  {
   "cell_type": "code",
   "execution_count": 263,
   "id": "4f5e6857",
   "metadata": {},
   "outputs": [
    {
     "name": "stdout",
     "output_type": "stream",
     "text": [
      "Intercept: 2.493810840979597\n",
      "R^2 score: -13.953841425267312\n"
     ]
    }
   ],
   "source": [
    "print(f'Intercept: {model.intercept_}')\n",
    "print(f'R^2 score: {model.score(x_train, y_train)}')"
   ]
  },
  {
   "cell_type": "code",
   "execution_count": 239,
   "id": "e8ee3c66",
   "metadata": {},
   "outputs": [
    {
     "data": {
      "image/png": "[encoded data removed]",
      "text/plain": [
       "<Figure size 600x600 with 1 Axes>"
      ]
     },
     "metadata": {},
     "output_type": "display_data"
    }
   ],
   "source": [
    "df_corr = df.corr().abs()\n",
    "f=plt.figure(figsize=(6,6))\n",
    "corr_matrix = sns.heatmap(\n",
    "            df_corr, \n",
    "            annot = True, \n",
    "            fmt = '.1g', \n",
    "            cmap = 'hot', \n",
    "            linewidths = 4, \n",
    "            linecolor = 'darkred',\n",
    "            cbar = False, \n",
    "            square = True, \n",
    "            xticklabels = df_corr.columns, \n",
    "            yticklabels = df_corr.columns);"
   ]
  },
  {
   "cell_type": "code",
   "execution_count": 240,
   "id": "edff7e6e",
   "metadata": {},
   "outputs": [
    {
     "data": {
      "text/html": [
       "<div>\n",
       "<style scoped>\n",
       "    .dataframe tbody tr th:only-of-type {\n",
       "        vertical-align: middle;\n",
       "    }\n",
       "\n",
       "    .dataframe tbody tr th {\n",
       "        vertical-align: top;\n",
       "    }\n",
       "\n",
       "    .dataframe thead th {\n",
       "        text-align: right;\n",
       "    }\n",
       "</style>\n",
       "<table border=\"1\" class=\"dataframe\">\n",
       "  <thead>\n",
       "    <tr style=\"text-align: right;\">\n",
       "      <th></th>\n",
       "      <th>FFMC</th>\n",
       "      <th>DMC</th>\n",
       "      <th>DC</th>\n",
       "      <th>ISI</th>\n",
       "      <th>temp</th>\n",
       "      <th>wind</th>\n",
       "    </tr>\n",
       "  </thead>\n",
       "  <tbody>\n",
       "    <tr>\n",
       "      <th>0</th>\n",
       "      <td>86.2</td>\n",
       "      <td>26.2</td>\n",
       "      <td>94.3</td>\n",
       "      <td>5.1</td>\n",
       "      <td>8.2</td>\n",
       "      <td>6.7</td>\n",
       "    </tr>\n",
       "    <tr>\n",
       "      <th>1</th>\n",
       "      <td>90.6</td>\n",
       "      <td>35.4</td>\n",
       "      <td>669.1</td>\n",
       "      <td>6.7</td>\n",
       "      <td>18.0</td>\n",
       "      <td>0.9</td>\n",
       "    </tr>\n",
       "    <tr>\n",
       "      <th>2</th>\n",
       "      <td>90.6</td>\n",
       "      <td>43.7</td>\n",
       "      <td>686.9</td>\n",
       "      <td>6.7</td>\n",
       "      <td>14.6</td>\n",
       "      <td>1.3</td>\n",
       "    </tr>\n",
       "    <tr>\n",
       "      <th>5</th>\n",
       "      <td>92.3</td>\n",
       "      <td>85.3</td>\n",
       "      <td>488.0</td>\n",
       "      <td>14.7</td>\n",
       "      <td>22.2</td>\n",
       "      <td>5.4</td>\n",
       "    </tr>\n",
       "    <tr>\n",
       "      <th>6</th>\n",
       "      <td>92.3</td>\n",
       "      <td>88.9</td>\n",
       "      <td>495.6</td>\n",
       "      <td>8.5</td>\n",
       "      <td>24.1</td>\n",
       "      <td>3.1</td>\n",
       "    </tr>\n",
       "    <tr>\n",
       "      <th>...</th>\n",
       "      <td>...</td>\n",
       "      <td>...</td>\n",
       "      <td>...</td>\n",
       "      <td>...</td>\n",
       "      <td>...</td>\n",
       "      <td>...</td>\n",
       "    </tr>\n",
       "    <tr>\n",
       "      <th>505</th>\n",
       "      <td>91.0</td>\n",
       "      <td>163.2</td>\n",
       "      <td>744.4</td>\n",
       "      <td>10.1</td>\n",
       "      <td>26.7</td>\n",
       "      <td>1.8</td>\n",
       "    </tr>\n",
       "    <tr>\n",
       "      <th>507</th>\n",
       "      <td>91.0</td>\n",
       "      <td>166.9</td>\n",
       "      <td>752.6</td>\n",
       "      <td>7.1</td>\n",
       "      <td>25.9</td>\n",
       "      <td>3.6</td>\n",
       "    </tr>\n",
       "    <tr>\n",
       "      <th>508</th>\n",
       "      <td>91.0</td>\n",
       "      <td>166.9</td>\n",
       "      <td>752.6</td>\n",
       "      <td>7.1</td>\n",
       "      <td>25.9</td>\n",
       "      <td>3.6</td>\n",
       "    </tr>\n",
       "    <tr>\n",
       "      <th>510</th>\n",
       "      <td>91.0</td>\n",
       "      <td>166.9</td>\n",
       "      <td>752.6</td>\n",
       "      <td>7.1</td>\n",
       "      <td>18.2</td>\n",
       "      <td>5.4</td>\n",
       "    </tr>\n",
       "    <tr>\n",
       "      <th>515</th>\n",
       "      <td>94.4</td>\n",
       "      <td>146.0</td>\n",
       "      <td>614.7</td>\n",
       "      <td>11.3</td>\n",
       "      <td>25.6</td>\n",
       "      <td>4.0</td>\n",
       "    </tr>\n",
       "  </tbody>\n",
       "</table>\n",
       "<p>356 rows × 6 columns</p>\n",
       "</div>"
      ],
      "text/plain": [
       "     FFMC    DMC     DC   ISI  temp  wind\n",
       "0    86.2   26.2   94.3   5.1   8.2   6.7\n",
       "1    90.6   35.4  669.1   6.7  18.0   0.9\n",
       "2    90.6   43.7  686.9   6.7  14.6   1.3\n",
       "5    92.3   85.3  488.0  14.7  22.2   5.4\n",
       "6    92.3   88.9  495.6   8.5  24.1   3.1\n",
       "..    ...    ...    ...   ...   ...   ...\n",
       "505  91.0  163.2  744.4  10.1  26.7   1.8\n",
       "507  91.0  166.9  752.6   7.1  25.9   3.6\n",
       "508  91.0  166.9  752.6   7.1  25.9   3.6\n",
       "510  91.0  166.9  752.6   7.1  18.2   5.4\n",
       "515  94.4  146.0  614.7  11.3  25.6   4.0\n",
       "\n",
       "[356 rows x 6 columns]"
      ]
     },
     "execution_count": 240,
     "metadata": {},
     "output_type": "execute_result"
    }
   ],
   "source": [
    "x.drop(['rain', 'RH'], axis=1)"
   ]
  },
  {
   "cell_type": "code",
   "execution_count": 241,
   "id": "25425497",
   "metadata": {},
   "outputs": [
    {
     "data": {
      "text/plain": [
       "LinearRegression()"
      ]
     },
     "execution_count": 241,
     "metadata": {},
     "output_type": "execute_result"
    }
   ],
   "source": [
    "from sklearn.linear_model import LinearRegression\n",
    "model = LinearRegression()\n",
    "model.fit(x, y)"
   ]
  },
  {
   "cell_type": "code",
   "execution_count": 242,
   "id": "764b999f",
   "metadata": {},
   "outputs": [
    {
     "name": "stdout",
     "output_type": "stream",
     "text": [
      "[0.61960651 2.23825491 1.98696654 1.89389063 2.27809884]\n"
     ]
    }
   ],
   "source": [
    "y_pred = model.predict(x)\n",
    "print(y_pred[:5])"
   ]
  },
  {
   "cell_type": "code",
   "execution_count": 243,
   "id": "2cfbcfdc",
   "metadata": {},
   "outputs": [
    {
     "name": "stdout",
     "output_type": "stream",
     "text": [
      "0    0.0\n",
      "1    0.0\n",
      "2    0.0\n",
      "5    0.0\n",
      "6    0.0\n",
      "Name: area, dtype: float64\n"
     ]
    }
   ],
   "source": [
    "print(y[:5])"
   ]
  },
  {
   "cell_type": "code",
   "execution_count": 244,
   "id": "8b2c4f44",
   "metadata": {},
   "outputs": [
    {
     "data": {
      "text/plain": [
       "[<matplotlib.lines.Line2D at 0x20ee80711f0>]"
      ]
     },
     "execution_count": 244,
     "metadata": {},
     "output_type": "execute_result"
    },
    {
     "data": {
      "image/png": "[encoded data removed]",
      "text/plain": [
       "<Figure size 640x480 with 1 Axes>"
      ]
     },
     "metadata": {},
     "output_type": "display_data"
    }
   ],
   "source": [
    "plt.scatter(y_pred, y)\n",
    "plt.plot(y, y, c='r')"
   ]
  },
  {
   "cell_type": "code",
   "execution_count": 245,
   "id": "dd90bd8e",
   "metadata": {},
   "outputs": [
    {
     "data": {
      "text/plain": [
       "0.01575554480495922"
      ]
     },
     "execution_count": 245,
     "metadata": {},
     "output_type": "execute_result"
    }
   ],
   "source": [
    "model.score(x, y)"
   ]
  },
  {
   "cell_type": "code",
   "execution_count": 246,
   "id": "73b66edf",
   "metadata": {},
   "outputs": [
    {
     "name": "stdout",
     "output_type": "stream",
     "text": [
      "Intercept: -11.472368898096299\n",
      "R^2 score: 0.01607485385858265\n"
     ]
    }
   ],
   "source": [
    "print(f'Intercept: {model.intercept_}')\n",
    "print(f'R^2 score: {model.score(x_train, y_train)}')"
   ]
  },
  {
   "cell_type": "code",
   "execution_count": 247,
   "id": "c141c622",
   "metadata": {},
   "outputs": [
    {
     "name": "stdout",
     "output_type": "stream",
     "text": [
      "[0.61960651 2.23825491 1.98696654 1.89389063 2.27809884]\n",
      "0    0.0\n",
      "1    0.0\n",
      "2    0.0\n",
      "5    0.0\n",
      "6    0.0\n",
      "Name: area, dtype: float64\n",
      "Intercept: -11.472368898096299\n",
      "R^2 score: 0.01607485385858265\n"
     ]
    },
    {
     "data": {
      "image/png": "[encoded data removed]",
      "text/plain": [
       "<Figure size 640x480 with 1 Axes>"
      ]
     },
     "metadata": {},
     "output_type": "display_data"
    }
   ],
   "source": [
    "from sklearn.linear_model import LinearRegression\n",
    "model = LinearRegression()\n",
    "model.fit(x, y)\n",
    "\n",
    "y_pred = model.predict(x)\n",
    "print(y_pred[:5])\n",
    "\n",
    "print(y[:5])\n",
    "\n",
    "plt.scatter(y_pred, y)\n",
    "plt.plot(y, y, c='r')\n",
    "\n",
    "model.score(x, y)\n",
    "\n",
    "print(f'Intercept: {model.intercept_}')\n",
    "print(f'R^2 score: {model.score(x_train, y_train)}')"
   ]
  },
  {
   "cell_type": "code",
   "execution_count": null,
   "id": "b6e8db54",
   "metadata": {},
   "outputs": [],
   "source": []
  }
 ],
 "metadata": {
  "kernelspec": {
   "display_name": "Python 3 (ipykernel)",
   "language": "python",
   "name": "python3"
  },
  "language_info": {
   "codemirror_mode": {
    "name": "ipython",
    "version": 3
   },
   "file_extension": ".py",
   "mimetype": "text/x-python",
   "name": "python",
   "nbconvert_exporter": "python",
   "pygments_lexer": "ipython3",
   "version": "3.9.13"
  }
 },
 "nbformat": 4,
 "nbformat_minor": 5
}
